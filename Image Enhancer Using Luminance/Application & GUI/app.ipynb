{
 "cells": [
  {
   "cell_type": "code",
   "execution_count": 1,
   "metadata": {},
   "outputs": [],
   "source": [
    "from flask import Flask, request, send_file, Response # type: ignore\n",
    "from PIL import Image # type: ignore\n",
    "from flask_cors import CORS # type: ignore\n",
    "import io # type: ignore\n",
    "import tensorflow as tf # type: ignore\n",
    "import numpy as np # type: ignore\n",
    "import os # type: ignore\n",
    "import time # type: ignore"
   ]
  },
  {
   "cell_type": "code",
   "execution_count": 2,
   "metadata": {},
   "outputs": [],
   "source": [
    "app = Flask(__name__)\n",
    "\n",
    "# Apply CORS to your Flask app\n",
    "CORS(app, resources={r\"/*\": {\"origins\": \"*\"}})\n",
    "\n",
    "# Directory to save processed images\n",
    "PROCESSED_DIR = \"processed Images\""
   ]
  },
  {
   "cell_type": "code",
   "execution_count": 3,
   "metadata": {},
   "outputs": [],
   "source": [
    "\n",
    "# load the selected TensorFlow model\n",
    "def load_model(model_path):\n",
    "    return tf.keras.models.load_model(model_path)\n"
   ]
  },
  {
   "cell_type": "code",
   "execution_count": 4,
   "metadata": {},
   "outputs": [],
   "source": [
    "\n",
    "# preprocess the image\n",
    "def preprocess_image(image):\n",
    "    ycbcr = image.convert(\"YCbCr\")\n",
    "    y, cb, cr = ycbcr.split()\n",
    "\n",
    "    y = tf.keras.preprocessing.image.img_to_array(y)\n",
    "    y = y.astype(\"float32\") / 255.0\n",
    "    input_image = y.reshape(1, y.shape[0], y.shape[1], 1)  # Reshape for model input\n",
    "\n",
    "    return input_image, cb, cr\n"
   ]
  },
  {
   "cell_type": "code",
   "execution_count": 5,
   "metadata": {},
   "outputs": [],
   "source": [
    "\n",
    "# postprocess the enhanced image\n",
    "def postprocess_image(output, cb, cr):\n",
    "    # Post-processing\n",
    "    output = output.reshape((output.shape[0], output.shape[1]))\n",
    "    output *= 255.0\n",
    "    output = output.clip(0, 255)\n",
    "\n",
    "    # Create a PIL Image from the enhanced output\n",
    "    output_image = Image.fromarray(np.uint8(output))\n",
    "\n",
    "    # Resize the CB and CR channels to match the output size\n",
    "    cb_resized = cb.resize(output_image.size, Image.BICUBIC)\n",
    "    cr_resized = cr.resize(output_image.size, Image.BICUBIC)\n",
    "\n",
    "    # Merge Y, CB, and CR channels to create the final enhanced image\n",
    "    super_res_image = Image.merge(\"YCbCr\", (output_image, cb_resized, cr_resized))\n",
    "    super_res_image = super_res_image.convert(\"RGB\")\n",
    "\n",
    "    return super_res_image\n"
   ]
  },
  {
   "cell_type": "code",
   "execution_count": 6,
   "metadata": {},
   "outputs": [],
   "source": [
    "# Function to open a file in the default web browser using only os library\n",
    "def open_html_file(UI_FilePath):\n",
    "    if os.name == 'nt':  # For Windows\n",
    "        os.startfile(UI_FilePath)\n",
    "    elif os.name == 'posix':  # For Unix-like systems (Linux, macOS, etc.)\n",
    "        if os.system(f'open \"{UI_FilePath}\"') != 0:  # macOS\n",
    "            os.system(f'xdg-open \"{UI_FilePath}\"')  # Linux\n",
    "    else:\n",
    "        print(\"Unsupported operating system\")"
   ]
  },
  {
   "cell_type": "code",
   "execution_count": 7,
   "metadata": {},
   "outputs": [],
   "source": [
    "\n",
    "# Route to process the uploaded image\n",
    "@app.route('/process_image', methods=['POST'])\n",
    "def process_image_route():\n",
    "    # Load the selected model\n",
    "    model_path = \"./models/\" + request.form['model']  # models are stored in a 'models' folder\n",
    "    model = load_model(model_path)\n",
    "\n",
    "    # Process the uploaded image\n",
    "    uploaded_image = request.files['image']\n",
    "    image = Image.open(uploaded_image)\n",
    "\n",
    "    # Preprocess the image\n",
    "    input_image, cb, cr = preprocess_image(image)\n",
    "\n",
    "    # Capture start time\n",
    "    start_time = time.time()\n",
    "\n",
    "    # Use the model to enhance image resolution\n",
    "    output = model.predict(input_image)[0]\n",
    "\n",
    "    # Capture end time\n",
    "    end_time = time.time()\n",
    "    # Calculate processing time\n",
    "    processing_time = end_time - start_time\n",
    "\n",
    "    # Post-process the enhanced image\n",
    "    output_image = postprocess_image(output, cb, cr)\n",
    "\n",
    "    # Generate filenames for the original and processed images\n",
    "    original_filename = uploaded_image.filename\n",
    "    processed_filename = \"enhanced_\" + original_filename\n",
    "    original_filepath = os.path.join(PROCESSED_DIR, original_filename)\n",
    "    processed_filepath = os.path.join(PROCESSED_DIR, processed_filename)\n",
    "\n",
    "    # Save the original image\n",
    "    image.save(original_filepath)\n",
    "\n",
    "    # Save the processed image\n",
    "    output_image.save(processed_filepath)\n",
    "\n",
    "    # Save the processed image to a buffer and send it back to the client\n",
    "    buffered = io.BytesIO()\n",
    "    output_image.save(buffered, format=\"JPEG\")\n",
    "    processed_image_data = buffered.getvalue()\n",
    "\n",
    "    # Set response headers to indicate that it's an image\n",
    "    response = Response(processed_image_data, mimetype='image/jpeg')\n",
    "    response.headers['Content-Disposition'] = 'attachment; filename=processed_image.jpg'\n",
    "\n",
    "    # Add processing time to response headers\n",
    "    response.headers['Processing-Time'] = str(processing_time)\n",
    "\n",
    "    return response\n"
   ]
  },
  {
   "cell_type": "code",
   "execution_count": 8,
   "metadata": {},
   "outputs": [],
   "source": [
    "\n",
    "@app.route('/check_server_status', methods=['GET'])\n",
    "def check_server_status():\n",
    "    return 'Server is running'\n",
    "\n",
    "def start_flask():\n",
    "    # Run the Flask application\n",
    "    app.run(debug=False)\n",
    "\n"
   ]
  },
  {
   "cell_type": "code",
   "execution_count": 9,
   "metadata": {},
   "outputs": [
    {
     "name": "stdout",
     "output_type": "stream",
     "text": [
      " * Serving Flask app '__main__'\n",
      " * Debug mode: off\n"
     ]
    },
    {
     "name": "stderr",
     "output_type": "stream",
     "text": [
      "WARNING: This is a development server. Do not use it in a production deployment. Use a production WSGI server instead.\n",
      " * Running on http://127.0.0.1:5000\n",
      "Press CTRL+C to quit\n",
      "127.0.0.1 - - [30/May/2024 15:30:34] \"GET /check_server_status HTTP/1.1\" 200 -\n"
     ]
    },
    {
     "name": "stdout",
     "output_type": "stream",
     "text": [
      "1/1 [==============================] - 2s 2s/step\n"
     ]
    },
    {
     "name": "stderr",
     "output_type": "stream",
     "text": [
      "127.0.0.1 - - [30/May/2024 15:30:38] \"POST /process_image HTTP/1.1\" 200 -\n"
     ]
    }
   ],
   "source": [
    "\n",
    "if __name__ == '__main__':\n",
    "    UI_FilePath = os.path.abspath(\"GUI\\Web_APP.html\")\n",
    "\n",
    "    # Create the 'processed' directory if it doesn't exist\n",
    "    if not os.path.exists(PROCESSED_DIR):\n",
    "        os.makedirs(PROCESSED_DIR)\n",
    "\n",
    "    # Open the HTML file\n",
    "    open_html_file(UI_FilePath)\n",
    "\n",
    "    # Start Flask only when a request is made\n",
    "    start_flask()\n"
   ]
  }
 ],
 "metadata": {
  "kernelspec": {
   "display_name": "TF-gpu",
   "language": "python",
   "name": "python3"
  },
  "language_info": {
   "codemirror_mode": {
    "name": "ipython",
    "version": 3
   },
   "file_extension": ".py",
   "mimetype": "text/x-python",
   "name": "python",
   "nbconvert_exporter": "python",
   "pygments_lexer": "ipython3",
   "version": "3.10.13"
  }
 },
 "nbformat": 4,
 "nbformat_minor": 2
}
